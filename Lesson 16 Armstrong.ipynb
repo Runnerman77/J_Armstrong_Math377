{
 "cells": [
  {
   "cell_type": "code",
   "execution_count": 1,
   "metadata": {},
   "outputs": [],
   "source": [
    "from datascience import *\n",
    "import numpy as np\n",
    "from math import *"
   ]
  },
  {
   "cell_type": "markdown",
   "metadata": {},
   "source": [
    "# Joint Distributions\n",
    "## C2C Jordan Armstrong\n",
    "### Documentation: None."
   ]
  },
  {
   "cell_type": "markdown",
   "metadata": {},
   "source": [
    "Recall from Lessons 13 & 14: let $X$ be a random variable. $X$ has a distribution that is described by a probability mass function (pmf) or probability density function (pdf). \n",
    "\n",
    "We can consider multiple random variables simultaneously using joint distributions. \n",
    "\n",
    "NOTE: When answering the questions below, you are not required to use Python. If you would like to answer in Markdown, feel free to change the type of the cell, or to use both types of cells. "
   ]
  },
  {
   "cell_type": "markdown",
   "metadata": {},
   "source": [
    "#### Example 1: Discrete Joint Distribution"
   ]
  },
  {
   "cell_type": "markdown",
   "metadata": {},
   "source": [
    "Let $X$ and $Y$ be discrete random variables that can each only take the values 0, 1 or 2, and do so according to the following distribution:"
   ]
  },
  {
   "cell_type": "markdown",
   "metadata": {},
   "source": [
    "\n",
    " |  | $X$  | 1 | 2 | 3 |\n",
    " |-- | ------ | ------ |\n",
    " |  | 1 | 0.17 | 0.15 | 0.08 |\n",
    " | $Y$ | 2 | 0.00 | 0.10 | 0.10 |\n",
    " |  | 3 | 0.08 | 0.20 | 0.12 |\n",
    " \n"
   ]
  },
  {
   "cell_type": "markdown",
   "metadata": {},
   "source": [
    "This is an example of a joint probability mass function (joint pmf), and is denoted as $f_{X,Y}(x,y)$. \n",
    "\n",
    "For example, the probability that $X$ takes the value 1 AND $Y$ takes the value 3, or $P(X=1,Y=3)$ is equal to 0.08. "
   ]
  },
  {
   "cell_type": "markdown",
   "metadata": {},
   "source": [
    "**_1.1_** Find $P(X = 2,Y=3)$. \n",
    "\n",
    "**_1.2_** Find $E(X+Y)$. "
   ]
  },
  {
   "cell_type": "code",
   "execution_count": 2,
   "metadata": {},
   "outputs": [
    {
     "data": {
      "text/plain": [
       "0.2"
      ]
     },
     "execution_count": 2,
     "metadata": {},
     "output_type": "execute_result"
    }
   ],
   "source": [
    "P1=0.20 #Read straight from the table\n",
    "P1"
   ]
  },
  {
   "cell_type": "code",
   "execution_count": 3,
   "metadata": {},
   "outputs": [
    {
     "data": {
      "text/plain": [
       "4.05"
      ]
     },
     "execution_count": 3,
     "metadata": {},
     "output_type": "execute_result"
    }
   ],
   "source": [
    "E_x_plus_y=2*(0.17)+3*(0.15)+4*(.26)+5*(.30)+6*(.12)\n",
    "E_x_plus_y"
   ]
  },
  {
   "cell_type": "markdown",
   "metadata": {},
   "source": [
    "### Marginal Probability"
   ]
  },
  {
   "cell_type": "markdown",
   "metadata": {},
   "source": [
    "When given a joint pmf like this, we may want to know the distribution of $X$ or $Y$ individually. Specifically, we might want to know $P(X=1)$ or $f_Y(y)$. \n",
    "\n",
    "Marginal probability can be found by summing across the remaining variable. Specifically,\n",
    "\n",
    "$$\n",
    "f_X(x)=\\sum_y f_{X,Y}(x,y)\n",
    "$$\n",
    "and \n",
    "$$\n",
    "f_Y(y)=\\sum_x f_{X,Y}(x,y)\n",
    "$$\n"
   ]
  },
  {
   "cell_type": "markdown",
   "metadata": {},
   "source": [
    "**_1.3_** Find $P(X=2)$. \n",
    "\n",
    "**_1.4_** Find $f_Y(y)$ (the marginal pmf of $Y$). \n",
    "\n",
    "**_1.5_** Find $E(Y)$ and $V(Y)$. "
   ]
  },
  {
   "cell_type": "code",
   "execution_count": 4,
   "metadata": {},
   "outputs": [
    {
     "data": {
      "text/plain": [
       "0.45"
      ]
     },
     "execution_count": 4,
     "metadata": {},
     "output_type": "execute_result"
    }
   ],
   "source": [
    "#1.3\n",
    "P=0.15+0.1+0.2\n",
    "P"
   ]
  },
  {
   "cell_type": "markdown",
   "metadata": {
    "scrolled": true
   },
   "source": [
    "1.4:\n",
    "$$\n",
    "f_Y(y) = \\left\\{ \\begin{array}{lr} 0.40, & y=1 \\\\ 0.20, & y=2 \\\\ 0.40, & y=3 \\\\ 0,  \\mbox{o/w} \\end{array} \\right.\n",
    "$$"
   ]
  },
  {
   "cell_type": "code",
   "execution_count": 5,
   "metadata": {},
   "outputs": [
    {
     "data": {
      "text/plain": [
       "2.0"
      ]
     },
     "execution_count": 5,
     "metadata": {},
     "output_type": "execute_result"
    }
   ],
   "source": [
    "#1.5\n",
    "#Expected Value E(Y)\n",
    "E_y=1*(0.17+0.15+0.08)+2*(0+.1+.1)+3*(0.08+0.20+0.12)\n",
    "E_x=1*(0.17+0+0.08)+2*(0.15+0.1+0.2)+3*(0.08+0.1+.12)\n",
    "\n",
    "E_y"
   ]
  },
  {
   "cell_type": "code",
   "execution_count": 6,
   "metadata": {},
   "outputs": [
    {
     "data": {
      "text/plain": [
       "0.8"
      ]
     },
     "execution_count": 6,
     "metadata": {},
     "output_type": "execute_result"
    }
   ],
   "source": [
    "#Variance V(Y)\n",
    "Var_y=0.4*(3-E_y)**2+0.2*(2-E_y)**2+0.4*(1-E_y)**2\n",
    "Var_y"
   ]
  },
  {
   "cell_type": "markdown",
   "metadata": {},
   "source": [
    "### Conditional Probability\n",
    "\n",
    "We may be interested in the probability $X$ takes a specific value conditioned on the value of $Y$. Recall that conditional probability is given by $P(A|B)=\\frac{P(A,B)}{P(B)}$. \n",
    "\n",
    "So, essentially, conditional probability can be found by dividing the joint probability by the appropriate marginal probability. "
   ]
  },
  {
   "cell_type": "markdown",
   "metadata": {},
   "source": [
    "**_1.6_** Find $P(Y=1|X=3)$. \n",
    "\n",
    "**_1.7_** Find $f_{X|Y=2}(x)$, the conditional pmf of $X$, given $Y=2$. \n",
    "\n",
    "**_1.8_** Find $E(X|Y=2)$ and $V(X|Y=2)$. "
   ]
  },
  {
   "cell_type": "code",
   "execution_count": 7,
   "metadata": {
    "scrolled": true
   },
   "outputs": [
    {
     "data": {
      "text/plain": [
       "0.26666666666666666"
      ]
     },
     "execution_count": 7,
     "metadata": {},
     "output_type": "execute_result"
    }
   ],
   "source": [
    "#1.6, P(Y=1|X=3)\n",
    "0.08/(0.08+0.10+0.12)"
   ]
  },
  {
   "cell_type": "markdown",
   "metadata": {},
   "source": [
    "Question 1.7\n",
    "$$\n",
    "f_{X|Y=2}(x) = \\left\\{ \\begin{array}{lr} 0, & x=1 \\\\ 0.50, & x=2 \\\\ 0.50, & x=3 \\\\ 0,  \\mbox{o/w} \\end{array} \\right.\n",
    "$$"
   ]
  },
  {
   "cell_type": "markdown",
   "metadata": {},
   "source": [
    "Question 1.8:\n",
    "$$\n",
    "E(X|Y=2)=0(1)+0.5(2)+0.5(3)=1+1.5=2.5\n",
    "$$\n",
    "\n",
    "$$\n",
    "V(X|Y=2)=0.5*(2-2.5)^2+0.5*(3-2.5)^2=0.5*(.25+.25)=0.5*0.5=0.25\n",
    "$$\n"
   ]
  },
  {
   "cell_type": "markdown",
   "metadata": {},
   "source": [
    "**_1.9_** Are $X$ and $Y$ independent? Why or why not? "
   ]
  },
  {
   "cell_type": "markdown",
   "metadata": {},
   "source": [
    "Yes $X$ and $Y$ are indepedent we have $P(Y=2|X=1)=0$ however $P(Y=2)=0.2$."
   ]
  },
  {
   "cell_type": "markdown",
   "metadata": {},
   "source": [
    "### Covariance and Correlation\n",
    "\n",
    "Expected value and variance help us characterize $X$ and $Y$ marginally and conditionally, but we may also be interested in measuring the relationship between $X$ and $Y$. For this, we use *covariance*. \n",
    "\n",
    "$$\n",
    "Cov(X,Y)=E[(X-E(X))(Y-E(Y))] = E(XY)-E(X)E(Y)\n",
    "$$\n",
    "\n",
    "Note that if $X$ and $Y$ are independent, $Cov(X,Y) =0$. The converse is NOT necessarily true. \n",
    "\n",
    "Covariance is dependent on the scales of $X$ and $Y$, so if the two variables are of vastly different scale, we'll want to use covariance's unitless counterpart, correlation, denoted by $\\rho$. \n",
    "\n",
    "$$\n",
    "\\rho = \\frac{Cov(X,Y)}{\\sqrt{Var(X)Var(Y)}}\n",
    "$$\n",
    "\n",
    "$\\rho$ is bounded by the interval $[-1,1]$. When $\\rho=1$, $X$ and $Y$ are perfectly positively correlated. Similarly, when $\\rho=-1$, $X$ and $Y$ are perfectly negatively correlated. "
   ]
  },
  {
   "cell_type": "markdown",
   "metadata": {},
   "source": [
    "**_1.10_** Find $Cov(X,Y)$\n",
    "\n",
    "**_1.11_** Find $Corr(X,Y)$, or $\\rho$. "
   ]
  },
  {
   "cell_type": "code",
   "execution_count": 8,
   "metadata": {},
   "outputs": [
    {
     "data": {
      "text/plain": [
       "0.13000000000000078"
      ]
     },
     "execution_count": 8,
     "metadata": {},
     "output_type": "execute_result"
    }
   ],
   "source": [
    "#1.10\n",
    "E_xy=1*(0.17)+2*(0.15)+3*(0.16)+4*(0.1)+6*(0.30)+9*(0.12)\n",
    "Cov_xy=E_xy-E_x*E_y\n",
    "Cov_xy"
   ]
  },
  {
   "cell_type": "code",
   "execution_count": 9,
   "metadata": {},
   "outputs": [
    {
     "data": {
      "text/plain": [
       "0.19598237397554752"
      ]
     },
     "execution_count": 9,
     "metadata": {},
     "output_type": "execute_result"
    }
   ],
   "source": [
    "#1.11\n",
    "Var_x=(0.08+.1+.12)*(3-E_y)**2+(.15+.1+.20)*(2-E_y)**2+(.17+.08)*(1-E_y)**2\n",
    "rho=Cov_xy/(Var_x*Var_y)**(1/2)\n",
    "rho"
   ]
  },
  {
   "cell_type": "markdown",
   "metadata": {},
   "source": [
    "In problem 1.2, we found $E(X+Y)$. In order to find $Var(X+Y)$, we need to know how $X$ and $Y$ are correlated: \n",
    "\n",
    "$$\n",
    "Var(X+Y)= Var(X)+Var(Y)+2*Cov(X,Y)\n",
    "$$"
   ]
  },
  {
   "cell_type": "markdown",
   "metadata": {},
   "source": [
    "**_1.12_** Find $Var(X+Y)$. "
   ]
  },
  {
   "cell_type": "code",
   "execution_count": 10,
   "metadata": {},
   "outputs": [
    {
     "data": {
      "text/plain": [
       "1.6100000000000017"
      ]
     },
     "execution_count": 10,
     "metadata": {},
     "output_type": "execute_result"
    }
   ],
   "source": [
    "#1.12\n",
    "Var_x_add_y=Var_x+Var_y+2*Cov_xy\n",
    "Var_x_add_y"
   ]
  },
  {
   "cell_type": "markdown",
   "metadata": {},
   "source": [
    "#### Example 2: Continuous Joint Distribution\n",
    "\n",
    "All of the concepts above apply to continuous random variables. Consider continuous random variables $X$ and $Y$ with the following joint pdf:\n",
    "\n",
    "$$\n",
    "f_{X,Y}(x,y)=k(x+y)\n",
    "$$\n",
    "\n",
    "where both $x$ and $y$ are bounded by the interval $[0,1]$. "
   ]
  },
  {
   "cell_type": "markdown",
   "metadata": {},
   "source": [
    "**_2.1_** Find the value of $k$ that makes $f$ a valid joint pdf. "
   ]
  },
  {
   "cell_type": "markdown",
   "metadata": {},
   "source": [
    "$$\n",
    "\\int_{0}^{1} \\int_{0}^{1} k(x+y) \\,dx\\,dy=1\n",
    "$$\n",
    "\n",
    "$$\n",
    "\\int_{0}^{1} k(\\frac{1}{2}+y) dy =1\n",
    "$$\n",
    "\n",
    "$$\n",
    "k=1\n",
    "$$"
   ]
  },
  {
   "cell_type": "markdown",
   "metadata": {},
   "source": [
    "**_2.2_** Find $P(X<0.5,Y<0.5)$"
   ]
  },
  {
   "cell_type": "markdown",
   "metadata": {},
   "source": [
    "$$\n",
    "\\int_{0}^{0.5} \\int_{0}^{0.5} (x+y) \\,dx\\,dy\n",
    "$$\n",
    "\n",
    "$$ \n",
    "\\int_{0}^{0.5} \\frac{x^2}{2}+xy \\bigg |_{0}^{0.5}dy\n",
    "$$\n",
    "\n",
    "$$\n",
    "\\int_{0}^{0.5} (\\frac{1}{8}+\\frac{y}{2}) dy\n",
    "$$\n",
    "\n",
    "$$\n",
    "(\\frac{y}{8}+\\frac{y^2}{4})\\bigg|_{0}^{0.5}=\\frac{1}{16}+\\frac{1}{16}=\\frac{1}{8}\n",
    "$$\n"
   ]
  },
  {
   "cell_type": "markdown",
   "metadata": {},
   "source": [
    "**_2.3_** Find $f_X(x)$ and $f_Y(y)$, the marginal pdfs of $X$ and $Y$. \n",
    "\n",
    "**_2.4_** Find $E(X)$ and $E(Y)$. "
   ]
  },
  {
   "cell_type": "markdown",
   "metadata": {},
   "source": [
    "Question 2.3:\n",
    "$$\n",
    "f_X(x)=\\int f_{X,Y}(x,y))dy=\\int_{0}^{1}(x+y)dy=(xy+\\frac{y^2}{2})\\bigg|_{0}^{1}=x+\\frac{1}{2}\n",
    "$$\n",
    "\n",
    "$$\n",
    "f_Y(y)=\\int f_{X,Y}(x,y))dx=\\int_{0}^{1}(x+y)dx=(xy+\\frac{x^2}{2})\\bigg|_{0}^{1}=y+\\frac{1}{2}\n",
    "$$"
   ]
  },
  {
   "cell_type": "markdown",
   "metadata": {},
   "source": [
    "Question 2.4:\n",
    "$$\n",
    "E(X)=\\int x f_X(x)dx=\\int_{0}^{1}x(x+\\frac{1}{2})dx=\\int_{0}{1}x^2+\\frac{x}{2}dx=\\frac{x^3}{3}+\\frac{x^2}{4}\\bigg |_{0}^{1}=\\frac{1}{3}+\\frac{1}{4}=\\frac{7}{12}\n",
    "$$\n",
    "\n",
    "$$\n",
    "E(Y)=\\int y f_Y(y)dy=\\int_{0}^{1}y(y+\\frac{1}{2})dy=\\int_{0}{1}y^2+\\frac{y}{2}dy=\\frac{y^3}{3}+\\frac{y^2}{4}\\bigg |_{0}^{1}=\\frac{1}{3}+\\frac{1}{4}=\\frac{7}{12}\n",
    "$$"
   ]
  },
  {
   "cell_type": "markdown",
   "metadata": {},
   "source": [
    "**_2.5_** Find $P(X>0.5\\vert Y\\leq 0.5)$. "
   ]
  },
  {
   "cell_type": "markdown",
   "metadata": {},
   "source": [
    "$$\n",
    "P(X>0.5 | Y \\leq 0.5)=\\frac{ P(X>0.5 and Y \\leq 0.5)}{P(Y \\leq0.5)}=\\frac{\\int_{0.5}^{1}\\int_{0}^{0.5}f_{X,Y}(x,y)dydx}{\\int_{0}^{0.5}(\\frac{1}{2}+y)dy}=\\frac{ \\int_{0.5}^{1}(xy+\\frac{y^2}{2})\\bigg |_{0}^{0.5}dx}{(\\frac{y}{2}+\\frac{y^2}{2})\\bigg |_{0}^{0.5}}=\\frac{\\int_{0}^{0.5}(\\frac{x}{2}+\\frac{1}{8})dx}{\\frac{1}{4}+\\frac{1}{8}}=\\frac{(\\frac{x^2}{4}+\\frac{x}{8})\\bigg |_{0.5}^{1}}{\\frac{3}{8}}=\\frac{8}{3}( (\\frac{1}{4}+\\frac{1}{8})-(\\frac{1}{16}+\\frac{1}{16}))=\\frac{8}{3}(\\frac{3}{8}-\\frac{1}{8})=\\frac{8}{3}(\\frac{1}{4})=\\frac{2}{3}\n",
    "$$"
   ]
  },
  {
   "cell_type": "markdown",
   "metadata": {},
   "source": [
    "**_2.6_** Find the conditional distributions of $X|Y$ and $Y|X$. Recall that conditional distributions can be found by dividing the joint pdf by the relevant marginal pdf. \n",
    "\n",
    "**_2.7_** Find $E(X|Y)$ and $E(Y|X)$."
   ]
  },
  {
   "cell_type": "markdown",
   "metadata": {},
   "source": [
    "Question 2.6:\n",
    "$$\n",
    "f_{X|Y}(x)=\\frac{f_{X,Y}(x,y)}{f_Y(y)}=\\frac{x+y}{\\frac{1}{2}+y}\n",
    "$$\n",
    "\n",
    "$$\n",
    "f_{Y|X}(y)=\\frac{f_{X,Y}(x,y)}{f_X(x)}=\\frac{x+y}{\\frac{1}{2}+x}\n",
    "$$"
   ]
  },
  {
   "cell_type": "markdown",
   "metadata": {},
   "source": [
    "Question 2.7:\n",
    "$$\n",
    "E(X|Y)=\\int_{0}^{1}xf_{X|Y}(x)dx=\\int_{0}^{1}x\\frac{x+y}{\\frac{1}{2}+y}dx=\\frac{1}{\\frac{1}{2}+y}\\int_{0}^{1}(x^2+xy)dx=\\frac{1}{\\frac{1}{2}+y}(\\frac{x^3}{3}+\\frac{x^2y}{2})\\bigg |_{0}^{1}=\\frac{2+3y}{3+6y}\n",
    "$$\n",
    "\n",
    "$$\n",
    "E(Y|X)=\\int_{0}^{1}yf_{Y|X}(y)dy=\\int_{0}^{1}y\\frac{x+y}{\\frac{1}{2}+x}dy=\\frac{1}{\\frac{1}{2}+x}\\int_{0}^{1}(y^2+xy)dy=\\frac{1}{\\frac{1}{2}+x}(\\frac{y^3}{3}+\\frac{y^2x}{2})\\bigg |_{0}^{1}=\\frac{2+3x}{3+6x}\n",
    "$$"
   ]
  },
  {
   "cell_type": "markdown",
   "metadata": {},
   "source": [
    "**_2.8_** Are $X$ and $Y$ independent? "
   ]
  },
  {
   "cell_type": "markdown",
   "metadata": {},
   "source": [
    "No, as $f_{X|Y}(x)\\neq f_X(x)$ and  $f_{Y|X}(y) \\neq f_Y(y)$, thus $X$ and $Y$ must depend on one another."
   ]
  },
  {
   "cell_type": "markdown",
   "metadata": {},
   "source": [
    "**_2.9_** What is $Cov(X,Y)$? "
   ]
  },
  {
   "cell_type": "markdown",
   "metadata": {},
   "source": [
    "$$\n",
    "E(XY)=\\int\\int xyf_{X,Y}(x,y)dxdy=\\int_{0}^{1} \\int_{0}^{1}xy(x+y)dxdy=\\int_{0}^{1}(\\frac{y}{3}+\\frac{y^2}{2})dy=\\frac{1}{6}+\\frac{1}{6}=\\frac{1}{3}\n",
    "$$\n",
    "\n",
    "$$\n",
    "Cov(XY)=E(XY)-E(X)E(Y)=\\frac{1}{3}-(\\frac{7}{12})(\\frac{7}{12})=\\frac{48}{144}-\\frac{49}{144}=-\\frac{1}{144}\n",
    "$$"
   ]
  }
 ],
 "metadata": {
  "kernelspec": {
   "display_name": "Python 3",
   "language": "python",
   "name": "python3"
  },
  "language_info": {
   "codemirror_mode": {
    "name": "ipython",
    "version": 3
   },
   "file_extension": ".py",
   "mimetype": "text/x-python",
   "name": "python",
   "nbconvert_exporter": "python",
   "pygments_lexer": "ipython3",
   "version": "3.6.5"
  }
 },
 "nbformat": 4,
 "nbformat_minor": 2
}
